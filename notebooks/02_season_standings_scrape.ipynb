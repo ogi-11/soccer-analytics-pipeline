{
 "cells": [
  {
   "cell_type": "code",
   "execution_count": 14,
   "id": "19cd6360",
   "metadata": {},
   "outputs": [],
   "source": [
    "import csv\n",
    "import pandas as pd\n",
    "from bs4 import BeautifulSoup\n",
    "import time\n",
    "import random\n",
    "import requests"
   ]
  },
  {
   "cell_type": "code",
   "execution_count": 53,
   "id": "4e1f90bf",
   "metadata": {},
   "outputs": [
    {
     "name": "stdout",
     "output_type": "stream",
     "text": [
      "Scraping Season: 2023-2024\n",
      "Scraping Season: 2022-2023\n",
      "Scraping Season: 2021-2022\n",
      "Scraping Season: 2020-2021\n",
      "Scraping Season: 2019-2020\n",
      "Scraping Season: 2018-2019\n"
     ]
    }
   ],
   "source": [
    "def league_standings(url, season):\n",
    "    requests_header = {\n",
    "        'User-Agent': 'Mozilla/5.0 (Macintosh; Intel Mac OS X 10_15_7) AppleWebKit/605.1.15 (KHTML, like Gecko) Version/16.1 Safari/605.1.15'     \n",
    "    }\n",
    "    \n",
    "    #source\n",
    "    source = requests.get(url, requests_header).text\n",
    "    soup = BeautifulSoup(source, 'html.parser')\n",
    "    \n",
    "    #column names\n",
    "    columnlist = []\n",
    "    \n",
    "    table = soup.find('table', class_ = 'stats_table sortable min_width force_mobilize')\n",
    "    \n",
    "    titles_only = table.find('thead')\n",
    "    for columnname in titles_only.find_all('th'):\n",
    "        columnlist.append(columnname.text)\n",
    "    \n",
    "    #table content\n",
    "    content = []\n",
    "    \n",
    "    body = table.find('tbody')\n",
    "    for contentbody in body.find_all(['th', 'td']):\n",
    "        content.append(contentbody.text.replace(' ', ''))\n",
    "    \n",
    "    def flat_to_df(flatlist, num_columns, column_names=None):\n",
    "        table_rows = [flatlist[i:i + num_columns] for i in range(0, len(flatlist), num_columns)]\n",
    "        df = pd.DataFrame(table_rows, columns=column_names)\n",
    "        return df\n",
    "    \n",
    "    if len(content) % len(columnlist) != 0:\n",
    "        return None\n",
    "    \n",
    "    num_cols = len(columnlist)\n",
    "    col_names = columnlist\n",
    "    df_data = flat_to_df(content, num_cols, col_names)\n",
    "    df_data.insert(0, 'Season', season)\n",
    "    return df_data\n",
    "\n",
    "\n",
    "per_length = 6\n",
    "\n",
    "year_1 = 2023\n",
    "year_2= 2024\n",
    "\n",
    "full_league_standings = []\n",
    "for i in range(per_length):   \n",
    "    url = f'https://fbref.com/en/comps/9/{year_1}-{year_2}/{year_1}-{year_2}-Premier-League-Stats'\n",
    "    con = league_standings(url, f'{year_1}-{year_2}')\n",
    "    print(f'Scraping Season: {year_1}-{year_2}')\n",
    "    full_league_standings.append(con)\n",
    "    sleep_duration = random.uniform(5, 15)\n",
    "    time.sleep(sleep_duration)\n",
    "    year_1 -= 1\n",
    "    year_2 -= 1\n",
    "\n",
    "result = pd.concat(full_league_standings, ignore_index=True)\n",
    "result.to_csv('/Users/ogizelenovic/Downloads/final_league_scrape.csv', encoding='utf-8-sig', index=False)"
   ]
  }
 ],
 "metadata": {
  "kernelspec": {
   "display_name": "Python 3",
   "language": "python",
   "name": "python3"
  },
  "language_info": {
   "codemirror_mode": {
    "name": "ipython",
    "version": 3
   },
   "file_extension": ".py",
   "mimetype": "text/x-python",
   "name": "python",
   "nbconvert_exporter": "python",
   "pygments_lexer": "ipython3",
   "version": "3.10.0"
  }
 },
 "nbformat": 4,
 "nbformat_minor": 5
}
