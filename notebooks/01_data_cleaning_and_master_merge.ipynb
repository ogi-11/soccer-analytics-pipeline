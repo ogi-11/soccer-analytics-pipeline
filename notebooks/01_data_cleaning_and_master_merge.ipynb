{
 "cells": [
  {
   "cell_type": "code",
   "execution_count": 43,
   "id": "8317bcd6",
   "metadata": {},
   "outputs": [],
   "source": [
    "import pandas as pd\n"
   ]
  },
  {
   "cell_type": "code",
   "execution_count": 44,
   "id": "ea6efb78",
   "metadata": {},
   "outputs": [],
   "source": [
    "import pandas as pd\n",
    "player_stats_df = pd.read_csv('../data/cleaned_football_data.csv')\n",
    "league_standings_df = pd.read_csv('../data/final_league_scrape.csv')"
   ]
  },
  {
   "cell_type": "code",
   "execution_count": null,
   "id": "0afad931",
   "metadata": {},
   "outputs": [],
   "source": [
    "player_stats_df['Team'] = player_stats_df['Team'].str.replace('-', ' ')"
   ]
  },
  {
   "cell_type": "code",
   "execution_count": null,
   "id": "be3ba8d3",
   "metadata": {},
   "outputs": [],
   "source": [
    "player_stats_df.rename(columns={'Team': 'Squad'}, inplace=True)"
   ]
  },
  {
   "cell_type": "code",
   "execution_count": 61,
   "id": "7e3d72e8",
   "metadata": {},
   "outputs": [],
   "source": [
    "name_map = {\n",
    "    'Sheffield United': 'SheffieldUtd',\n",
    "    'West Ham United': 'WestHam',\n",
    "    'Crystal Palace': 'CrystalPalace',\n",
    "    'Cardiff City': 'CardiffCity',\n",
    "    'Tottenham Hotspur': 'Tottenham',\n",
    "    'Brighton and Hove Albion': 'Brighton',\n",
    "    'Leicester City': 'LeicesterCity',\n",
    "    'Luton Town': 'LutonTown',\n",
    "    'Newcastle United': 'NewcastleUtd',\n",
    "    'West Bromwich Albion': 'WestBrom',\n",
    "    'Aston Villa': 'AstonVilla',\n",
    "    'Manchester City': 'ManchesterCity',\n",
    "    'Leeds United': 'LeedsUnited',\n",
    "    'Wolverhampton Wanderers': 'Wolves',\n",
    "    'Huddersfield Town': 'Huddersfield',\n",
    "    'Norwich City': 'NorwichCity',\n",
    "    'Nottingham Forest': \"Nott'hamForest\",\n",
    "    'Manchester United': 'ManchesterUtd'\n",
    "}\n",
    "\n",
    "player_stats_df['Team'].replace(name_map, inplace=True)"
   ]
  },
  {
   "cell_type": "code",
   "execution_count": null,
   "id": "016821d3",
   "metadata": {},
   "outputs": [],
   "source": [
    "player_stats_df.to_csv('../data/cleaned_football_data.csv', encoding='utf-8-sig', index=False)"
   ]
  },
  {
   "cell_type": "code",
   "execution_count": 67,
   "id": "bd761021",
   "metadata": {},
   "outputs": [],
   "source": [
    "final_full_clean = pd.merge(player_stats_df, league_standings_df, how='left', on=['Season', 'Squad'])\n",
    "final_full_clean.to_csv('../data/MASTER.csv', encoding='utf-8-sig', index=False)"
   ]
  }
 ],
 "metadata": {
  "kernelspec": {
   "display_name": "Python 3",
   "language": "python",
   "name": "python3"
  },
  "language_info": {
   "codemirror_mode": {
    "name": "ipython",
    "version": 3
   },
   "file_extension": ".py",
   "mimetype": "text/x-python",
   "name": "python",
   "nbconvert_exporter": "python",
   "pygments_lexer": "ipython3",
   "version": "3.10.0"
  }
 },
 "nbformat": 4,
 "nbformat_minor": 5
}
